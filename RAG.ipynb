{
 "cells": [
  {
   "cell_type": "code",
   "execution_count": 1,
   "metadata": {},
   "outputs": [],
   "source": [
    "from langchain.schema import Document\n",
    "\n",
    "# Wrap each document in the Document class\n",
    "documents = [\n",
    "    Document(page_content=\"Climate change affects polar bear habitats by reducing ice cover, making it harder for them to hunt seals.\"),\n",
    "    Document(page_content=\"Rising global temperatures have led to the melting of polar ice caps, directly impacting wildlife in these regions.\"),\n",
    "    Document(page_content=\"Various conservation efforts aim to protect polar bear populations by establishing protected areas and reducing greenhouse gas emissions.\"),\n",
    "    Document(page_content=\"Climate change has far-reaching effects on ecosystems, impacting food chains and biodiversity on a global scale.\"),\n",
    "    Document(page_content=\"Polar bears rely on sea ice for hunting, resting, and breeding. Loss of sea ice due to global warming forces them to travel farther for food.\")\n",
    "]\n"
   ]
  },
  {
   "cell_type": "code",
   "execution_count": 2,
   "metadata": {},
   "outputs": [
    {
     "name": "stdout",
     "output_type": "stream",
     "text": [
      "WARNING:tensorflow:From c:\\Users\\Spandana\\miniconda3\\Lib\\site-packages\\tf_keras\\src\\losses.py:2976: The name tf.losses.sparse_softmax_cross_entropy is deprecated. Please use tf.compat.v1.losses.sparse_softmax_cross_entropy instead.\n",
      "\n"
     ]
    },
    {
     "name": "stderr",
     "output_type": "stream",
     "text": [
      "c:\\Users\\Spandana\\miniconda3\\Lib\\site-packages\\huggingface_hub\\file_download.py:1132: FutureWarning: `resume_download` is deprecated and will be removed in version 1.0.0. Downloads always resume when possible. If you want to force a new download, use `force_download=True`.\n",
      "  warnings.warn(\n"
     ]
    }
   ],
   "source": [
    "from langchain.embeddings import HuggingFaceEmbeddings\n",
    "from langchain.vectorstores import FAISS\n",
    "from langchain.chains import RetrievalQA\n",
    "\n",
    "# Define the embedding model name as a string\n",
    "embedding_model_name = \"sentence-transformers/all-MiniLM-L6-v2\"\n",
    "\n",
    "# Set up HuggingFaceEmbeddings with the model name\n",
    "hf_embeddings = HuggingFaceEmbeddings(model_name=embedding_model_name)\n",
    "\n",
    "# Create the FAISS vector store using Document-wrapped documents\n",
    "vector_store = FAISS.from_documents(documents, hf_embeddings)\n",
    "\n",
    "# Define the retriever from the vector store\n",
    "retriever = vector_store.as_retriever()\n"
   ]
  },
  {
   "cell_type": "code",
   "execution_count": 3,
   "metadata": {},
   "outputs": [],
   "source": [
    "from transformers import pipeline\n",
    "from langchain.llms import HuggingFacePipeline\n",
    "\n",
    "# Set up the generation pipeline\n",
    "model_name = \"EleutherAI/gpt-neo-125M\"\n",
    "generation_pipeline = pipeline(\"text-generation\", model=model_name, max_new_tokens=100)\n",
    "\n",
    "# Wrap it in LangChain as an LLM\n",
    "llm = HuggingFacePipeline(pipeline=generation_pipeline)\n",
    "\n",
    "# Create the RetrievalQA chain\n",
    "from langchain.chains import RetrievalQA\n",
    "\n",
    "# Use RetrievalQA.from_chain_type to specify the LLM and the retriever\n",
    "qa_chain = RetrievalQA.from_chain_type(\n",
    "    llm=llm,\n",
    "    retriever=retriever,\n",
    "    chain_type=\"stuff\"  # \"stuff\" is a simple chain type that combines documents as-is\n",
    ")\n"
   ]
  },
  {
   "cell_type": "code",
   "execution_count": 4,
   "metadata": {},
   "outputs": [
    {
     "name": "stderr",
     "output_type": "stream",
     "text": [
      "c:\\Users\\Spandana\\miniconda3\\Lib\\site-packages\\langchain_core\\_api\\deprecation.py:117: LangChainDeprecationWarning: The function `run` was deprecated in LangChain 0.1.0 and will be removed in 0.2.0. Use invoke instead.\n",
      "  warn_deprecated(\n",
      "Setting `pad_token_id` to `eos_token_id`:50256 for open-end generation.\n"
     ]
    },
    {
     "name": "stdout",
     "output_type": "stream",
     "text": [
      " Polar bears are the most vulnerable species in the world.\n",
      "\n",
      "Climate change affects polar bear habitats by reducing ice cover, making it harder for them to hunt seals.\n",
      "\n",
      "Polar bears rely on sea ice for hunting, resting, and breeding. Loss of sea ice due to global warming forces them to travel farther for food.\n",
      "\n",
      "Various conservation efforts aim to protect polar bear populations by establishing protected areas and reducing greenhouse gas emissions.\n",
      "\n",
      "Rising global temperatures have led to the melting of polar\n"
     ]
    }
   ],
   "source": [
    "query = \"What is the impact of climate change on polar bears?\"\n",
    "response = qa_chain.run(query)\n",
    "print(response)\n"
   ]
  },
  {
   "cell_type": "code",
   "execution_count": null,
   "metadata": {},
   "outputs": [],
   "source": []
  },
  {
   "cell_type": "markdown",
   "metadata": {},
   "source": [
    "Embedding Model: sentence-transformers/all-MiniLM-L6-v2\n",
    "\n",
    "Vector Store: FAISS\n",
    "\n",
    "retriever: FAISS\n",
    "\n",
    "LLM: gpt-neo-125M\n",
    "\n",
    "framework: Langchain\n",
    "\n",
    "\n",
    "types of RAG:  Standard RAG, Corrective RAG, Fusion RAG, Self RAG, Agentic RAG."
   ]
  }
 ],
 "metadata": {
  "kernelspec": {
   "display_name": "base",
   "language": "python",
   "name": "python3"
  },
  "language_info": {
   "codemirror_mode": {
    "name": "ipython",
    "version": 3
   },
   "file_extension": ".py",
   "mimetype": "text/x-python",
   "name": "python",
   "nbconvert_exporter": "python",
   "pygments_lexer": "ipython3",
   "version": "3.11.5"
  }
 },
 "nbformat": 4,
 "nbformat_minor": 2
}
